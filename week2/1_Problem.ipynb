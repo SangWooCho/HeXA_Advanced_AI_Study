{
 "cells": [
  {
   "cell_type": "markdown",
   "metadata": {},
   "source": [
    "# Problem"
   ]
  },
  {
   "cell_type": "markdown",
   "metadata": {},
   "source": [
    "The regularized least-squares problem has the form\n",
    "\n",
    "<br>\n",
    "$$ \\min_{\\theta} \\;\\lVert A\\theta -y\\rVert_2^2 + \\lambda \\lVert \\theta \\rVert_2^2$$\n",
    "\n",
    "(a) Show that the solution is given by\n",
    "<br><br>\n",
    "$$ \\hat{\\theta} = \\left( A^T A + \\lambda I_n \\right)^{-1} A^T y $$\n",
    "* Do not use the method of Lagrangian multipliers\n",
    "<br><br>"
   ]
  },
  {
   "cell_type": "markdown",
   "metadata": {},
   "source": [
    "(b) Write down a gradient descent algorithm for a given optimization problem. Assume the optimization problem in 1D case:\n",
    "\n",
    "$$ \\min_{\\theta}  (a\\theta -y)^2 + \\lambda\\theta^2 $$"
   ]
  },
  {
   "cell_type": "markdown",
   "metadata": {},
   "source": [
    "(c) Based on the result of (b), describe the role of regularizer term.\n",
    "\n",
    "* Hint: Gradient $g$ is computed by $ g = g_{projection} + g_{regularizer} $."
   ]
  },
  {
   "cell_type": "markdown",
   "metadata": {},
   "source": [
    "(d) Describe results of (a) and (b) have the same meaning."
   ]
  },
  {
   "cell_type": "markdown",
   "metadata": {},
   "source": [
    "(e) Find and draw an approximated curve of the given data points in Python using your gradient descent algorithm."
   ]
  },
  {
   "cell_type": "code",
   "execution_count": 1,
   "metadata": {},
   "outputs": [
    {
     "data": {
      "image/png": "[encoded data removed]",
      "text/plain": [
       "<Figure size 720x432 with 1 Axes>"
      ]
     },
     "metadata": {
      "needs_background": "light"
     },
     "output_type": "display_data"
    }
   ],
   "source": [
    "import numpy as np\n",
    "import matplotlib.pyplot as plt\n",
    "\n",
    "x = np.linspace(-4.5, 4.5, 10)\n",
    "y = np.array([0.9819, 0.7973, 1.9737, 0.1838, 1.3180, -0.8361, -0.6591, -2.4701, -2.8122, -6.2512])\n",
    "\n",
    "plt.figure(figsize=(10, 6))\n",
    "plt.plot(x, y, 'o')\n",
    "plt.xlabel('x', fontsize=15)\n",
    "plt.ylabel('y', fontsize=15)\n",
    "plt.xlim(-5, 5)\n",
    "plt.ylim(-7, 3)\n",
    "plt.show()"
   ]
  },
  {
   "cell_type": "markdown",
   "metadata": {},
   "source": [
    "# 대충순서\n",
    "\n",
    "## 1. W값 아무걸로 initializing 하기\n",
    "## 2. W2x^2 + W1x + W0 라인그려보기\n",
    "## 3. Cost Function 구하기\n",
    "## 4. Gradient W 구하기\n",
    "## 5. iterative 하게 G.D하기\n",
    "## 5-1. iterative 하게 G.D할때 loss값 줄어드는지 확인"
   ]
  }
 ],
 "metadata": {
  "kernelspec": {
   "display_name": "Python [conda env:hexa_ai_1] *",
   "language": "python",
   "name": "conda-env-hexa_ai_1-py"
  },
  "language_info": {
   "codemirror_mode": {
    "name": "ipython",
    "version": 3
   },
   "file_extension": ".py",
   "mimetype": "text/x-python",
   "name": "python",
   "nbconvert_exporter": "python",
   "pygments_lexer": "ipython3",
   "version": "3.8.8"
  }
 },
 "nbformat": 4,
 "nbformat_minor": 2
}
